{
 "cells": [
  {
   "cell_type": "markdown",
   "id": "ee5556e2",
   "metadata": {},
   "source": [
    "# Automatic File Sorter in File Explorer"
   ]
  },
  {
   "cell_type": "code",
   "execution_count": 1,
   "id": "89a38c45",
   "metadata": {},
   "outputs": [],
   "source": [
    "import os, shutil"
   ]
  },
  {
   "cell_type": "code",
   "execution_count": 10,
   "id": "184c3976",
   "metadata": {},
   "outputs": [],
   "source": [
    "path = r\"C:/Users/63995/Downloads/Python Tutorials/\""
   ]
  },
  {
   "cell_type": "code",
   "execution_count": 21,
   "id": "9397bc40",
   "metadata": {},
   "outputs": [
    {
     "name": "stdout",
     "output_type": "stream",
     "text": [
      "['bg.jpg', 'cropped-Favicon-talentpop.jpg', 'csv files', 'DroidCam.Setup.6.5.2.exe', 'image files', 'program files']\n"
     ]
    }
   ],
   "source": [
    "file_name = os.listdir(path)\n",
    "print(os.listdir(path))"
   ]
  },
  {
   "cell_type": "code",
   "execution_count": 13,
   "id": "033e5ed0",
   "metadata": {},
   "outputs": [],
   "source": [
    "folder_names = ['csv files', 'image files', 'program files']\n",
    "\n",
    "for loop in range(0,3):\n",
    "    if not os.path.exists(path + folder_names[loop]):\n",
    "        os.makedirs(path + folder_names[loop])"
   ]
  },
  {
   "cell_type": "code",
   "execution_count": 28,
   "id": "c34f52fd",
   "metadata": {},
   "outputs": [],
   "source": [
    "for file in file_name:\n",
    "    if \".csv\" in file and not os.path.exists(path + \"csv files/\" + file):\n",
    "        shutil.move(path + file, path + \"csv files/\" + file)\n",
    "    if \".png\" in file and not os.path.exists(path + \"image files/\" + file):\n",
    "        shutil.move(path + file, path + \"image files/\" + file)\n",
    "    if \".exe\" in file and not os.path.exists(path + \"program files/\" + file):\n",
    "        shutil.move(path + file, path + \"program files/\" + file)"
   ]
  },
  {
   "cell_type": "code",
   "execution_count": null,
   "id": "9e3591fe",
   "metadata": {},
   "outputs": [],
   "source": []
  },
  {
   "cell_type": "markdown",
   "id": "e6a18660",
   "metadata": {},
   "source": [
    "# Code to move several files with different extensions"
   ]
  },
  {
   "cell_type": "code",
   "execution_count": 29,
   "id": "9a99d32f",
   "metadata": {},
   "outputs": [
    {
     "name": "stdout",
     "output_type": "stream",
     "text": [
      "['(M)TalentPop-WhiteWall_Plants.png', 'bg.jpg', 'cropped-Favicon-talentpop.jpg', 'DroidCam.Setup.6.5.2.exe', 'Starbucks.csv']\n"
     ]
    }
   ],
   "source": [
    "import os\n",
    "import shutil\n",
    "\n",
    "path = r\"C:/Users/63995/Downloads/Python Tutorials/\"\n",
    "\n",
    "file_name = os.listdir(path)\n",
    "print(os.listdir(path))\n",
    "\n",
    "# Dictionary to map folder names to multiple extensions\n",
    "folder_to_extensions = {\n",
    "    \"csv files\": [\".csv\", \".txt\"],\n",
    "    \"image files\": [\".jpg\", \".png\", \".gif\"],\n",
    "    \"program files\": [\".com\", \".exe\"]\n",
    "}\n",
    "\n",
    "# Create folders if they don't exist\n",
    "for folder_name in folder_to_extensions.keys():\n",
    "    folder_path = os.path.join(path, folder_name)\n",
    "    if not os.path.exists(folder_path):\n",
    "        os.makedirs(folder_path)\n",
    "\n",
    "# Move files to their respective folders\n",
    "for file in file_name:\n",
    "    file_extension = os.path.splitext(file)[-1].lower()  # Get file extension in lowercase\n",
    "    \n",
    "    for folder_name, extensions in folder_to_extensions.items():\n",
    "        if file_extension in extensions:\n",
    "            source_path = os.path.join(path, file)\n",
    "            destination_path = os.path.join(path, folder_name, file)\n",
    "            \n",
    "            if not os.path.exists(destination_path):\n",
    "                shutil.move(source_path, destination_path)\n",
    "                break  # Move the file to the first matching folder and break out of the inner loop\n"
   ]
  },
  {
   "cell_type": "code",
   "execution_count": null,
   "id": "33a157de",
   "metadata": {},
   "outputs": [],
   "source": []
  },
  {
   "cell_type": "code",
   "execution_count": null,
   "id": "1d0a42ae",
   "metadata": {},
   "outputs": [],
   "source": []
  },
  {
   "cell_type": "code",
   "execution_count": null,
   "id": "1c11c922",
   "metadata": {},
   "outputs": [],
   "source": []
  },
  {
   "cell_type": "code",
   "execution_count": null,
   "id": "000ceb56",
   "metadata": {},
   "outputs": [],
   "source": []
  },
  {
   "cell_type": "markdown",
   "id": "9a9735a0",
   "metadata": {},
   "source": []
  }
 ],
 "metadata": {
  "kernelspec": {
   "display_name": "Python 3 (ipykernel)",
   "language": "python",
   "name": "python3"
  },
  "language_info": {
   "codemirror_mode": {
    "name": "ipython",
    "version": 3
   },
   "file_extension": ".py",
   "mimetype": "text/x-python",
   "name": "python",
   "nbconvert_exporter": "python",
   "pygments_lexer": "ipython3",
   "version": "3.11.4"
  }
 },
 "nbformat": 4,
 "nbformat_minor": 5
}
