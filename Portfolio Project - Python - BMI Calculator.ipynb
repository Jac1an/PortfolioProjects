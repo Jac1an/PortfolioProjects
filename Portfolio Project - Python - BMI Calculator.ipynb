{
 "cells": [
  {
   "cell_type": "markdown",
   "id": "d42fa193",
   "metadata": {},
   "source": [
    "# BMI Calculator\n",
    "\n",
    "https://www.calculatorsoup.com/calculators/health/bmi-calculator.php\n",
    "\n",
    "BMI = weight ÷ height2\n",
    "\n",
    "In metric units: BMI = weight (kg) ÷ height2 (meters)\n",
    "\n",
    "In US units: BMI = weight (lb) ÷ height2 (inches) * 703\n",
    "\n",
    "CDC Adult BMI Categories\n",
    "\n",
    "≤ 18.4\tUnderweight | 18.5 - 24.9\tNormal | 25.0 - 39.9\tOverweight | ≥ 40.0\tObese\n"
   ]
  },
  {
   "cell_type": "code",
   "execution_count": 51,
   "id": "d464594c",
   "metadata": {},
   "outputs": [
    {
     "name": "stdout",
     "output_type": "stream",
     "text": [
      "Enter your name: Jason\n",
      "Enter your weight in pounds: 156\n",
      "Enter your height in inches: 73\n",
      "20.58\n",
      "Jason, you're normal\n"
     ]
    }
   ],
   "source": [
    "name = input(\"Enter your name: \")\n",
    "weight = int(input(\"Enter your weight in pounds: \"))\n",
    "height = int(input(\"Enter your height in inches: \"))\n",
    "BMI = (weight/(height**2)) * 703\n",
    "\n",
    "print(round(BMI,2))\n",
    "\n",
    "if(BMI) > 0:\n",
    "    if BMI < 18.5:\n",
    "        print(name + \", you're under weight\")\n",
    "    elif BMI <= 24.9:\n",
    "        print(name + \", you're normal\")\n",
    "    elif BMI <= 39.9:\n",
    "        print(name + \", you're overweight\")\n",
    "    elif BMI >= 40:\n",
    "        print(name + \", you're obese\")\n",
    "else:\n",
    "    print('Enter correct values.')"
   ]
  },
  {
   "cell_type": "code",
   "execution_count": null,
   "id": "29501fa7",
   "metadata": {},
   "outputs": [],
   "source": []
  },
  {
   "cell_type": "code",
   "execution_count": null,
   "id": "96cc2eef",
   "metadata": {},
   "outputs": [],
   "source": []
  }
 ],
 "metadata": {
  "kernelspec": {
   "display_name": "Python 3 (ipykernel)",
   "language": "python",
   "name": "python3"
  },
  "language_info": {
   "codemirror_mode": {
    "name": "ipython",
    "version": 3
   },
   "file_extension": ".py",
   "mimetype": "text/x-python",
   "name": "python",
   "nbconvert_exporter": "python",
   "pygments_lexer": "ipython3",
   "version": "3.11.4"
  }
 },
 "nbformat": 4,
 "nbformat_minor": 5
}
